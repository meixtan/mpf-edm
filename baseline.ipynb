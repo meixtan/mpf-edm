{
 "cells": [
  {
   "cell_type": "code",
   "execution_count": 1,
   "metadata": {},
   "outputs": [
    {
     "name": "stdout",
     "output_type": "stream",
     "text": [
      "Requirement already satisfied: accelerate in /home/mxtan/.local/lib/python3.8/site-packages (0.26.1)\n",
      "Requirement already satisfied: peft in /home/mxtan/.local/lib/python3.8/site-packages (0.8.2)\n",
      "Requirement already satisfied: bitsandbytes in /home/mxtan/.local/lib/python3.8/site-packages (0.42.0)\n",
      "Requirement already satisfied: transformers in /home/mxtan/.local/lib/python3.8/site-packages (4.38.2)\n",
      "Requirement already satisfied: trl in /home/mxtan/.local/lib/python3.8/site-packages (0.7.11)\n",
      "Requirement already satisfied: tqdm in /home/mxtan/.local/lib/python3.8/site-packages (4.66.4)\n",
      "Requirement already satisfied: pandas in /home/mxtan/.local/lib/python3.8/site-packages (2.0.3)\n",
      "Requirement already satisfied: torch in /home/mxtan/.local/lib/python3.8/site-packages (2.3.0)\n",
      "Requirement already satisfied: pyyaml in /usr/lib/python3/dist-packages (from accelerate) (5.3.1)\n",
      "Requirement already satisfied: numpy>=1.17 in /home/mxtan/.local/lib/python3.8/site-packages (from accelerate) (1.24.4)\n",
      "Requirement already satisfied: huggingface-hub in /home/mxtan/.local/lib/python3.8/site-packages (from accelerate) (0.23.2)\n",
      "Requirement already satisfied: packaging>=20.0 in /home/mxtan/.local/lib/python3.8/site-packages (from accelerate) (24.0)\n",
      "Requirement already satisfied: safetensors>=0.3.1 in /home/mxtan/.local/lib/python3.8/site-packages (from accelerate) (0.4.3)\n",
      "Requirement already satisfied: psutil in /usr/lib/python3/dist-packages (from accelerate) (5.5.1)\n",
      "Requirement already satisfied: scipy in /home/mxtan/.local/lib/python3.8/site-packages (from bitsandbytes) (1.10.1)\n",
      "Requirement already satisfied: tokenizers<0.19,>=0.14 in /home/mxtan/.local/lib/python3.8/site-packages (from transformers) (0.15.2)\n",
      "Requirement already satisfied: regex!=2019.12.17 in /home/mxtan/.local/lib/python3.8/site-packages (from transformers) (2024.5.15)\n",
      "Requirement already satisfied: requests in /usr/lib/python3/dist-packages (from transformers) (2.22.0)\n",
      "Requirement already satisfied: filelock in /home/mxtan/.local/lib/python3.8/site-packages (from transformers) (3.14.0)\n",
      "Requirement already satisfied: tyro>=0.5.11 in /home/mxtan/.local/lib/python3.8/site-packages (from trl) (0.8.4)\n",
      "Requirement already satisfied: datasets in /home/mxtan/.local/lib/python3.8/site-packages (from trl) (2.16.1)\n",
      "Requirement already satisfied: python-dateutil>=2.8.2 in /home/mxtan/.local/lib/python3.8/site-packages (from pandas) (2.9.0.post0)\n",
      "Requirement already satisfied: pytz>=2020.1 in /home/mxtan/.local/lib/python3.8/site-packages (from pandas) (2024.1)\n",
      "Requirement already satisfied: tzdata>=2022.1 in /home/mxtan/.local/lib/python3.8/site-packages (from pandas) (2024.1)\n",
      "Requirement already satisfied: nvidia-nvtx-cu12==12.1.105; platform_system == \"Linux\" and platform_machine == \"x86_64\" in /home/mxtan/.local/lib/python3.8/site-packages (from torch) (12.1.105)\n",
      "Requirement already satisfied: nvidia-cudnn-cu12==8.9.2.26; platform_system == \"Linux\" and platform_machine == \"x86_64\" in /home/mxtan/.local/lib/python3.8/site-packages (from torch) (8.9.2.26)\n",
      "Requirement already satisfied: networkx in /home/mxtan/.local/lib/python3.8/site-packages (from torch) (3.1)\n",
      "Requirement already satisfied: nvidia-nccl-cu12==2.20.5; platform_system == \"Linux\" and platform_machine == \"x86_64\" in /home/mxtan/.local/lib/python3.8/site-packages (from torch) (2.20.5)\n",
      "Requirement already satisfied: triton==2.3.0; platform_system == \"Linux\" and platform_machine == \"x86_64\" and python_version < \"3.12\" in /home/mxtan/.local/lib/python3.8/site-packages (from torch) (2.3.0)\n",
      "Requirement already satisfied: nvidia-cuda-cupti-cu12==12.1.105; platform_system == \"Linux\" and platform_machine == \"x86_64\" in /home/mxtan/.local/lib/python3.8/site-packages (from torch) (12.1.105)\n",
      "Requirement already satisfied: nvidia-cuda-nvrtc-cu12==12.1.105; platform_system == \"Linux\" and platform_machine == \"x86_64\" in /home/mxtan/.local/lib/python3.8/site-packages (from torch) (12.1.105)\n",
      "Requirement already satisfied: fsspec in /home/mxtan/.local/lib/python3.8/site-packages (from torch) (2023.10.0)\n",
      "Requirement already satisfied: nvidia-cusparse-cu12==12.1.0.106; platform_system == \"Linux\" and platform_machine == \"x86_64\" in /home/mxtan/.local/lib/python3.8/site-packages (from torch) (12.1.0.106)\n",
      "Requirement already satisfied: typing-extensions>=4.8.0 in /home/mxtan/.local/lib/python3.8/site-packages (from torch) (4.12.1)\n",
      "Requirement already satisfied: sympy in /home/mxtan/.local/lib/python3.8/site-packages (from torch) (1.12.1)\n",
      "Requirement already satisfied: nvidia-cusolver-cu12==11.4.5.107; platform_system == \"Linux\" and platform_machine == \"x86_64\" in /home/mxtan/.local/lib/python3.8/site-packages (from torch) (11.4.5.107)\n",
      "Requirement already satisfied: nvidia-cublas-cu12==12.1.3.1; platform_system == \"Linux\" and platform_machine == \"x86_64\" in /home/mxtan/.local/lib/python3.8/site-packages (from torch) (12.1.3.1)\n",
      "Requirement already satisfied: nvidia-curand-cu12==10.3.2.106; platform_system == \"Linux\" and platform_machine == \"x86_64\" in /home/mxtan/.local/lib/python3.8/site-packages (from torch) (10.3.2.106)\n",
      "Requirement already satisfied: nvidia-cufft-cu12==11.0.2.54; platform_system == \"Linux\" and platform_machine == \"x86_64\" in /home/mxtan/.local/lib/python3.8/site-packages (from torch) (11.0.2.54)\n",
      "Requirement already satisfied: nvidia-cuda-runtime-cu12==12.1.105; platform_system == \"Linux\" and platform_machine == \"x86_64\" in /home/mxtan/.local/lib/python3.8/site-packages (from torch) (12.1.105)\n",
      "Requirement already satisfied: jinja2 in /usr/lib/python3/dist-packages (from torch) (2.10.1)\n",
      "Requirement already satisfied: docstring-parser>=0.14.1 in /home/mxtan/.local/lib/python3.8/site-packages (from tyro>=0.5.11->trl) (0.16)\n",
      "Requirement already satisfied: rich>=11.1.0 in /home/mxtan/.local/lib/python3.8/site-packages (from tyro>=0.5.11->trl) (13.7.1)\n",
      "Requirement already satisfied: shtab>=1.5.6 in /home/mxtan/.local/lib/python3.8/site-packages (from tyro>=0.5.11->trl) (1.7.1)\n",
      "Requirement already satisfied: eval-type-backport>=0.1.3; python_version < \"3.10\" in /home/mxtan/.local/lib/python3.8/site-packages (from tyro>=0.5.11->trl) (0.2.0)\n",
      "Requirement already satisfied: dill<0.3.8,>=0.3.0 in /home/mxtan/.local/lib/python3.8/site-packages (from datasets->trl) (0.3.7)\n",
      "Requirement already satisfied: multiprocess in /home/mxtan/.local/lib/python3.8/site-packages (from datasets->trl) (0.70.16)\n",
      "Requirement already satisfied: pyarrow-hotfix in /home/mxtan/.local/lib/python3.8/site-packages (from datasets->trl) (0.6)\n",
      "Requirement already satisfied: aiohttp in /home/mxtan/.local/lib/python3.8/site-packages (from datasets->trl) (3.9.5)\n",
      "Requirement already satisfied: pyarrow>=8.0.0 in /home/mxtan/.local/lib/python3.8/site-packages (from datasets->trl) (16.1.0)\n",
      "Requirement already satisfied: xxhash in /home/mxtan/.local/lib/python3.8/site-packages (from datasets->trl) (3.4.1)\n",
      "Requirement already satisfied: six>=1.5 in /usr/lib/python3/dist-packages (from python-dateutil>=2.8.2->pandas) (1.14.0)\n",
      "Requirement already satisfied: nvidia-nvjitlink-cu12 in /home/mxtan/.local/lib/python3.8/site-packages (from nvidia-cusparse-cu12==12.1.0.106; platform_system == \"Linux\" and platform_machine == \"x86_64\"->torch) (12.5.40)\n",
      "Requirement already satisfied: mpmath<1.4.0,>=1.1.0 in /home/mxtan/.local/lib/python3.8/site-packages (from sympy->torch) (1.3.0)\n",
      "Requirement already satisfied: markdown-it-py>=2.2.0 in /home/mxtan/.local/lib/python3.8/site-packages (from rich>=11.1.0->tyro>=0.5.11->trl) (3.0.0)\n",
      "Requirement already satisfied: pygments<3.0.0,>=2.13.0 in /home/mxtan/.local/lib/python3.8/site-packages (from rich>=11.1.0->tyro>=0.5.11->trl) (2.18.0)\n",
      "Requirement already satisfied: attrs>=17.3.0 in /usr/lib/python3/dist-packages (from aiohttp->datasets->trl) (19.3.0)\n",
      "Requirement already satisfied: yarl<2.0,>=1.0 in /home/mxtan/.local/lib/python3.8/site-packages (from aiohttp->datasets->trl) (1.9.4)\n",
      "Requirement already satisfied: async-timeout<5.0,>=4.0; python_version < \"3.11\" in /home/mxtan/.local/lib/python3.8/site-packages (from aiohttp->datasets->trl) (4.0.3)\n",
      "Requirement already satisfied: multidict<7.0,>=4.5 in /home/mxtan/.local/lib/python3.8/site-packages (from aiohttp->datasets->trl) (6.0.5)\n",
      "Requirement already satisfied: aiosignal>=1.1.2 in /home/mxtan/.local/lib/python3.8/site-packages (from aiohttp->datasets->trl) (1.3.1)\n",
      "Requirement already satisfied: frozenlist>=1.1.1 in /home/mxtan/.local/lib/python3.8/site-packages (from aiohttp->datasets->trl) (1.4.1)\n",
      "Requirement already satisfied: mdurl~=0.1 in /home/mxtan/.local/lib/python3.8/site-packages (from markdown-it-py>=2.2.0->rich>=11.1.0->tyro>=0.5.11->trl) (0.1.2)\n",
      "Requirement already satisfied: idna>=2.0 in /usr/lib/python3/dist-packages (from yarl<2.0,>=1.0->aiohttp->datasets->trl) (2.8)\n"
     ]
    }
   ],
   "source": [
    "!pip install accelerate peft bitsandbytes transformers trl tqdm pandas torch transformers"
   ]
  },
  {
   "cell_type": "code",
   "execution_count": null,
   "metadata": {},
   "outputs": [],
   "source": [
    "import pandas as pd\n",
    "import torch\n",
    "import pandas as pd\n",
    "from transformers import (\n",
    "    AutoModelForCausalLM,\n",
    "    AutoTokenizer,\n",
    "    BitsAndBytesConfig,\n",
    ")\n",
    "from tqdm import tqdm"
   ]
  },
  {
   "cell_type": "code",
   "execution_count": 15,
   "metadata": {},
   "outputs": [],
   "source": [
    "from transformers import (\n",
    "    pipeline,\n",
    ")\n",
    "def format_prompt_baseline(essay, assignment):\n",
    "    text = (\n",
    "        \"You are my English teacher. Read my essay and assignment:\\n\\n\"\n",
    "        f\"Essay: '''{essay}'''\\n\\n\"\n",
    "        f\"Assignment: '''{assignment}'''\\n\\n\"\n",
    "        \"Give me feedback to help me revise. Extract three to five very short excerpts from my essay and give me feedback on those. Keep your feedback very short. List the excerpts and feedback like this:\\n\"\n",
    "        \"*[excerpt]---[feedback]\\n\"\n",
    "        \"*[excerpt]---[feedback]\\n\"\n",
    "        \"*[excerpt]---[feedback]\\n\"\n",
    "    )\n",
    "    return text\n",
    "\n",
    "def generate(input, model, tokenizer):\n",
    "    pipe = pipeline(task=\"text-generation\", model=model, tokenizer=tokenizer, max_length=2048)\n",
    "    result = pipe(f\"<s>[INST] {input} [/INST]\")\n",
    "    return result[0]['generated_text']"
   ]
  },
  {
   "cell_type": "code",
   "execution_count": 16,
   "metadata": {},
   "outputs": [],
   "source": [
    "# Load dataset\n",
    "df = pd.read_csv('eval_data_6_30.csv')\n",
    "df['input'] = df.apply(lambda row: format_prompt_baseline(row['essay'], row['prompt']), axis=1)"
   ]
  },
  {
   "cell_type": "code",
   "execution_count": 13,
   "metadata": {},
   "outputs": [
    {
     "data": {
      "text/html": [
       "<div>\n",
       "<style scoped>\n",
       "    .dataframe tbody tr th:only-of-type {\n",
       "        vertical-align: middle;\n",
       "    }\n",
       "\n",
       "    .dataframe tbody tr th {\n",
       "        vertical-align: top;\n",
       "    }\n",
       "\n",
       "    .dataframe thead th {\n",
       "        text-align: right;\n",
       "    }\n",
       "</style>\n",
       "<table border=\"1\" class=\"dataframe\">\n",
       "  <thead>\n",
       "    <tr style=\"text-align: right;\">\n",
       "      <th></th>\n",
       "      <th>essay</th>\n",
       "      <th>prompt</th>\n",
       "      <th>input</th>\n",
       "    </tr>\n",
       "  </thead>\n",
       "  <tbody>\n",
       "    <tr>\n",
       "      <th>0</th>\n",
       "      <td>Dear Principal,\\n\\nI have heard you are having...</td>\n",
       "      <td>Some of your friends perform community service...</td>\n",
       "      <td>You are my English teacher. Read my essay and ...</td>\n",
       "    </tr>\n",
       "    <tr>\n",
       "      <th>1</th>\n",
       "      <td>Asking for more than one person for advice can...</td>\n",
       "      <td>When people ask for advice, they sometimes tal...</td>\n",
       "      <td>You are my English teacher. Read my essay and ...</td>\n",
       "    </tr>\n",
       "    <tr>\n",
       "      <th>2</th>\n",
       "      <td>Dear Principal,\\n\\nConsidering a policy change...</td>\n",
       "      <td>Your principal is considering changing school ...</td>\n",
       "      <td>You are my English teacher. Read my essay and ...</td>\n",
       "    </tr>\n",
       "    <tr>\n",
       "      <th>3</th>\n",
       "      <td>2/1/11\\n\\nDear Mr. Principal,\\n\\nI believe tha...</td>\n",
       "      <td>Some of your friends perform community service...</td>\n",
       "      <td>You are my English teacher. Read my essay and ...</td>\n",
       "    </tr>\n",
       "    <tr>\n",
       "      <th>4</th>\n",
       "      <td>The New school policy\\n\\nI do not like the new...</td>\n",
       "      <td>Your principal is considering changing school ...</td>\n",
       "      <td>You are my English teacher. Read my essay and ...</td>\n",
       "    </tr>\n",
       "  </tbody>\n",
       "</table>\n",
       "</div>"
      ],
      "text/plain": [
       "                                               essay  \\\n",
       "0  Dear Principal,\\n\\nI have heard you are having...   \n",
       "1  Asking for more than one person for advice can...   \n",
       "2  Dear Principal,\\n\\nConsidering a policy change...   \n",
       "3  2/1/11\\n\\nDear Mr. Principal,\\n\\nI believe tha...   \n",
       "4  The New school policy\\n\\nI do not like the new...   \n",
       "\n",
       "                                              prompt  \\\n",
       "0  Some of your friends perform community service...   \n",
       "1  When people ask for advice, they sometimes tal...   \n",
       "2  Your principal is considering changing school ...   \n",
       "3  Some of your friends perform community service...   \n",
       "4  Your principal is considering changing school ...   \n",
       "\n",
       "                                               input  \n",
       "0  You are my English teacher. Read my essay and ...  \n",
       "1  You are my English teacher. Read my essay and ...  \n",
       "2  You are my English teacher. Read my essay and ...  \n",
       "3  You are my English teacher. Read my essay and ...  \n",
       "4  You are my English teacher. Read my essay and ...  "
      ]
     },
     "execution_count": 13,
     "metadata": {},
     "output_type": "execute_result"
    }
   ],
   "source": [
    "df.head()"
   ]
  },
  {
   "cell_type": "code",
   "execution_count": 3,
   "metadata": {},
   "outputs": [
    {
     "data": {
      "text/plain": [
       "(174, 3)"
      ]
     },
     "execution_count": 3,
     "metadata": {},
     "output_type": "execute_result"
    }
   ],
   "source": [
    "df.shape"
   ]
  },
  {
   "cell_type": "code",
   "execution_count": 4,
   "metadata": {},
   "outputs": [
    {
     "name": "stderr",
     "output_type": "stream",
     "text": [
      "/home/mxtan/.local/lib/python3.8/site-packages/huggingface_hub/file_download.py:1132: FutureWarning: `resume_download` is deprecated and will be removed in version 1.0.0. Downloads always resume when possible. If you want to force a new download, use `force_download=True`.\n",
      "  warnings.warn(\n",
      "Loading checkpoint shards: 100%|██████████| 2/2 [01:21<00:00, 40.87s/it]\n"
     ]
    }
   ],
   "source": [
    "# Set up model config\n",
    "base_model = \"NousResearch/Llama-2-7b-chat-hf\"\n",
    "tokenizer = AutoTokenizer.from_pretrained(base_model, trust_remote_code=True)\n",
    "tokenizer.pad_token = tokenizer.eos_token\n",
    "tokenizer.padding_side = \"right\"\n",
    "compute_dtype = getattr(torch, \"float16\")\n",
    "quant_config = BitsAndBytesConfig(\n",
    "    load_in_4bit=True,\n",
    "    bnb_4bit_quant_type=\"nf4\",\n",
    "    bnb_4bit_compute_dtype=compute_dtype,\n",
    "    bnb_4bit_use_double_quant=False,\n",
    ")\n",
    "model = AutoModelForCausalLM.from_pretrained(\n",
    "    base_model,\n",
    "    device_map={\"\": 0}\n",
    ")\n",
    "model.config.use_cache = False\n",
    "model.config.pretraining_tp = 1"
   ]
  },
  {
   "cell_type": "code",
   "execution_count": 17,
   "metadata": {},
   "outputs": [
    {
     "name": "stdout",
     "output_type": "stream",
     "text": [
      "<s>[INST] You are my English teacher. Read my essay and assignment:\n",
      "\n",
      "Essay: '''Dear Principal,\n",
      "\n",
      "I have heard you are having trouble making a decision on whether students should or shouldn't be required to do community service. I know many people who do community service including myself. From personal experience of community service i can tell you that it can help the way you think and act around certain types of people and ethnic groups. I am not say there is a different way to act around others, although it would be unprofessional to act like you do with your friends around the president of the United States. Therefore all students should be required to perform community service acts.\n",
      "\n",
      "One of the main reasons community service should be essential is because students now a days have more time to do these things and it would greatly impact our communities. For example if one student did community service by picking up trash in a near by park we could prevent people from overseeing these parks just because it is has trash every where. Another great example of community service having a big impact on our community is helping at the annual food drive. This could impact millions of people that are in dyer needs of food and you never know but you could collect 5 cans that could possibly be the difference between life or death.\n",
      "\n",
      "I know it may sound funny but picking up trash or collecting food at a food drive doesn't take much effort but it does leave a big impact and i know that students are age are perfectly capable of doing these small tasks.\n",
      "\n",
      "Doing such a little thing to a community could make a big difference for many people, so if i were in your shoes trying to make a decision about community service i would definitely say yes not only because i do this myself but because the people that we could be effecting need our help. Thank you for considering the following things that i have put up to offer. I hope your decision goes well and i know when it comes down to it u will make the right choice.\n",
      "\n",
      "Sincerely,\n",
      "\n",
      "STUDENT_NAME'''\n",
      "\n",
      "Assignment: '''Some of your friends perform community service. For example, some tutor elementary school children and others clean up litter. They think helping the community is very important. But other friends of yours think community service takes too much time away from what they need or want to do. \n",
      "Your principal is deciding whether to require all students to perform community service. \n",
      "Write a letter to your principal in which you take a position on whether students should be required to perform community service. Support your position with examples.'''\n",
      "\n",
      "Give me feedback to help me revise. Extract three to five very short excerpts from my essay and give me feedback on those. Keep your feedback very short. List the excerpts and feedback like this:\n",
      "*[excerpt]---[feedback]\n",
      "*[excerpt]---[feedback]\n",
      "*[excerpt]---[feedback]\n",
      " [/INST]  Sure, I'd be happy to help you revise your essay and assignment! Here are three to five excerpts from your work along with some feedback:\n",
      "\n",
      "* \"From personal experience of community service i can tell you that it can help the way you think and act around certain types of people and ethnic groups.\"---This sentence could be rephrased for clarity. Instead of using \"personal experience,\" consider using a more specific term like \"volunteer work\" or \"community involvement.\"\n",
      "* \"Doing such a little thing to a community could make a big difference for many people, so if i were in your shoes trying to make a decision about community service i would definitely say yes not only because i do this myself but because the people that we could be effecting need our help.\"---This sentence is a good argument for why community service is important, but it could be more impactful if you provided specific examples of how community service can make a difference. Consider sharing a personal experience or a statistic to illustrate the positive impact of community service.\n",
      "* \"I know it may sound funny but picking up trash or collecting food at a food drive doesn't take much effort but it does leave a big impact and i know that students are age are perfectly capable of doing these small tasks.\"---This sentence could be rephrased for clarity. Instead of using \"funny,\" consider using a more neutral term like \"surprising.\" Additionally, consider providing more specific examples of the impact of community service, rather than simply stating that it has a big impact.\n",
      "\n",
      "Overall, your essay and assignment show a clear understanding of the importance of community service. By providing specific examples and arguments, you can make your position even more compelling to your principal and readers. Keep up the good work!\n"
     ]
    }
   ],
   "source": [
    "#try just 1\n",
    "res = generate(df['input'][0], model, tokenizer)\n",
    "print(res)"
   ]
  },
  {
   "cell_type": "code",
   "execution_count": 18,
   "metadata": {},
   "outputs": [
    {
     "name": "stderr",
     "output_type": "stream",
     "text": [
      "100%|██████████| 174/174 [32:55<00:00, 11.36s/it]\n"
     ]
    },
    {
     "data": {
      "text/plain": [
       "'<s>[INST] You are my English teacher. Read my essay and assignment:\\n\\nEssay: \\'\\'\\'Dear Principal,\\n\\nI have heard you are having trouble making a decision on whether students should or shouldn\\'t be required to do community service. I know many people who do community service including myself. From personal experience of community service i can tell you that it can help the way you think and act around certain types of people and ethnic groups. I am not say there is a different way to act around others, although it would be unprofessional to act like you do with your friends around the president of the United States. Therefore all students should be required to perform community service acts.\\n\\nOne of the main reasons community service should be essential is because students now a days have more time to do these things and it would greatly impact our communities. For example if one student did community service by picking up trash in a near by park we could prevent people from overseeing these parks just because it is has trash every where. Another great example of community service having a big impact on our community is helping at the annual food drive. This could impact millions of people that are in dyer needs of food and you never know but you could collect 5 cans that could possibly be the difference between life or death.\\n\\nI know it may sound funny but picking up trash or collecting food at a food drive doesn\\'t take much effort but it does leave a big impact and i know that students are age are perfectly capable of doing these small tasks.\\n\\nDoing such a little thing to a community could make a big difference for many people, so if i were in your shoes trying to make a decision about community service i would definitely say yes not only because i do this myself but because the people that we could be effecting need our help. Thank you for considering the following things that i have put up to offer. I hope your decision goes well and i know when it comes down to it u will make the right choice.\\n\\nSincerely,\\n\\nSTUDENT_NAME\\'\\'\\'\\n\\nAssignment: \\'\\'\\'Some of your friends perform community service. For example, some tutor elementary school children and others clean up litter. They think helping the community is very important. But other friends of yours think community service takes too much time away from what they need or want to do. \\nYour principal is deciding whether to require all students to perform community service. \\nWrite a letter to your principal in which you take a position on whether students should be required to perform community service. Support your position with examples.\\'\\'\\'\\n\\nGive me feedback to help me revise. Extract three to five very short excerpts from my essay and give me feedback on those. Keep your feedback very short. List the excerpts and feedback like this:\\n*[excerpt]---[feedback]\\n*[excerpt]---[feedback]\\n*[excerpt]---[feedback]\\n [/INST]  Sure, I\\'d be happy to help you revise your essay and assignment! Here are three to five excerpts from your work along with some feedback:\\n\\n* \"I know many people who do community service including myself. From personal experience of community service i can tell you that it can help the way you think and act around certain types of people and ethnic groups.\"---Feedback: Consider providing specific examples of how community service has positively impacted your own life or the lives of others.\\n* \"Doing such a little thing to a community could make a big difference for many people, so if i were in your shoes trying to make a decision about community service i would definitely say yes not only because i do this myself but because the people that we could be effecting need our help.\"---Feedback: Emphasize the long-term benefits of community service, such as how it can shape the next generation of leaders and citizens.\\n* \"I know it may sound funny but picking up trash or collecting food at a food drive doesn\\'t take much effort but it does leave a big impact and i know that students are age are perfectly capable of doing these small tasks.\"---Feedback: Highlight the various ways in which students can contribute to community service, such as volunteering at local animal shelters or participating in park cleanups.\\n\\nOverall, your essay and assignment demonstrate a clear passion for community service and a desire to make a positive impact on society. By providing specific examples and emphasizing the long-term benefits of community service, you can make a stronger argument for why students should be required to perform community service. Keep up the good work!'"
      ]
     },
     "execution_count": 18,
     "metadata": {},
     "output_type": "execute_result"
    }
   ],
   "source": [
    "tqdm.pandas()\n",
    "df['predictions'] = df.progress_apply(lambda row: generate(row['input'], model, tokenizer), axis=1)\n",
    "df['predictions'][0]"
   ]
  },
  {
   "cell_type": "code",
   "execution_count": 19,
   "metadata": {},
   "outputs": [],
   "source": [
    "import re\n",
    "def extract_text_after_tag(text, tag='[/INST]'):\n",
    "    pattern = re.compile(f\"{re.escape(tag)}(.*)\", re.DOTALL)\n",
    "    match = pattern.search(text)\n",
    "    if match:\n",
    "        return match.group(1).strip()\n",
    "    return \"\"\n",
    "\n",
    "def extract_feedback_sections(text):\n",
    "    # Split the text by asterisks to separate sections\n",
    "    sections = text.split('*')[1:]  # Ignore the part before the first asterisk\n",
    "    \n",
    "    result = []\n",
    "    for section in sections:\n",
    "        # Use regex to extract the text between * and ---\n",
    "        excerpt_match = re.search(r'\"(.*?)\"---', section, re.DOTALL)\n",
    "        excerpt = excerpt_match.group(1).strip() if excerpt_match else ''\n",
    "\n",
    "        # Extract the feedback text after --- and before \\n\n",
    "        feedback_match = re.search(r'---(.*?)(\\n|$)', section, re.DOTALL)\n",
    "        #feedback_match = re.search(r'---(.*)', section, re.DOTALL)\n",
    "        feedback = feedback_match.group(1).strip() if feedback_match else ''\n",
    "\n",
    "        if len(excerpt) > 0 and len(feedback) > 0:\n",
    "            result.append({'excerpt': excerpt, 'feedback': feedback})\n",
    "    \n",
    "    return result\n",
    "\n",
    "def expand_pred_df(df, input_column):\n",
    "    new_rows = []\n",
    "    for idx, row in df.iterrows():\n",
    "        input_text = row[input_column]\n",
    "        sections = extract_feedback_sections(input_text)\n",
    "        for section in sections:\n",
    "            new_row = row.to_dict()\n",
    "            new_row['excerpt'] = section['excerpt']\n",
    "            new_row['feedback'] = section['feedback']\n",
    "            new_rows.append(new_row)\n",
    "    \n",
    "    expanded_df = pd.DataFrame(new_rows)\n",
    "    return expanded_df"
   ]
  },
  {
   "cell_type": "code",
   "execution_count": 20,
   "metadata": {},
   "outputs": [],
   "source": [
    "df['extracted_content'] = df['predictions'].apply(extract_text_after_tag)"
   ]
  },
  {
   "cell_type": "code",
   "execution_count": 21,
   "metadata": {},
   "outputs": [
    {
     "data": {
      "text/html": [
       "<div>\n",
       "<style scoped>\n",
       "    .dataframe tbody tr th:only-of-type {\n",
       "        vertical-align: middle;\n",
       "    }\n",
       "\n",
       "    .dataframe tbody tr th {\n",
       "        vertical-align: top;\n",
       "    }\n",
       "\n",
       "    .dataframe thead th {\n",
       "        text-align: right;\n",
       "    }\n",
       "</style>\n",
       "<table border=\"1\" class=\"dataframe\">\n",
       "  <thead>\n",
       "    <tr style=\"text-align: right;\">\n",
       "      <th></th>\n",
       "      <th>essay</th>\n",
       "      <th>prompt</th>\n",
       "      <th>input</th>\n",
       "      <th>predictions</th>\n",
       "      <th>extracted_content</th>\n",
       "    </tr>\n",
       "  </thead>\n",
       "  <tbody>\n",
       "    <tr>\n",
       "      <th>0</th>\n",
       "      <td>Dear Principal,\\n\\nI have heard you are having...</td>\n",
       "      <td>Some of your friends perform community service...</td>\n",
       "      <td>You are my English teacher. Read my essay and ...</td>\n",
       "      <td>&lt;s&gt;[INST] You are my English teacher. Read my ...</td>\n",
       "      <td>Sure, I'd be happy to help you revise your ess...</td>\n",
       "    </tr>\n",
       "    <tr>\n",
       "      <th>1</th>\n",
       "      <td>Asking for more than one person for advice can...</td>\n",
       "      <td>When people ask for advice, they sometimes tal...</td>\n",
       "      <td>You are my English teacher. Read my essay and ...</td>\n",
       "      <td>&lt;s&gt;[INST] You are my English teacher. Read my ...</td>\n",
       "      <td>Sure, I'd be happy to help you revise your ess...</td>\n",
       "    </tr>\n",
       "    <tr>\n",
       "      <th>2</th>\n",
       "      <td>Dear Principal,\\n\\nConsidering a policy change...</td>\n",
       "      <td>Your principal is considering changing school ...</td>\n",
       "      <td>You are my English teacher. Read my essay and ...</td>\n",
       "      <td>&lt;s&gt;[INST] You are my English teacher. Read my ...</td>\n",
       "      <td>Of course! Here are some excerpts from your es...</td>\n",
       "    </tr>\n",
       "    <tr>\n",
       "      <th>3</th>\n",
       "      <td>2/1/11\\n\\nDear Mr. Principal,\\n\\nI believe tha...</td>\n",
       "      <td>Some of your friends perform community service...</td>\n",
       "      <td>You are my English teacher. Read my essay and ...</td>\n",
       "      <td>&lt;s&gt;[INST] You are my English teacher. Read my ...</td>\n",
       "      <td>Of course! Here are some excerpts from your es...</td>\n",
       "    </tr>\n",
       "    <tr>\n",
       "      <th>4</th>\n",
       "      <td>The New school policy\\n\\nI do not like the new...</td>\n",
       "      <td>Your principal is considering changing school ...</td>\n",
       "      <td>You are my English teacher. Read my essay and ...</td>\n",
       "      <td>&lt;s&gt;[INST] You are my English teacher. Read my ...</td>\n",
       "      <td>Sure, I'd be happy to help you revise your ess...</td>\n",
       "    </tr>\n",
       "  </tbody>\n",
       "</table>\n",
       "</div>"
      ],
      "text/plain": [
       "                                               essay  \\\n",
       "0  Dear Principal,\\n\\nI have heard you are having...   \n",
       "1  Asking for more than one person for advice can...   \n",
       "2  Dear Principal,\\n\\nConsidering a policy change...   \n",
       "3  2/1/11\\n\\nDear Mr. Principal,\\n\\nI believe tha...   \n",
       "4  The New school policy\\n\\nI do not like the new...   \n",
       "\n",
       "                                              prompt  \\\n",
       "0  Some of your friends perform community service...   \n",
       "1  When people ask for advice, they sometimes tal...   \n",
       "2  Your principal is considering changing school ...   \n",
       "3  Some of your friends perform community service...   \n",
       "4  Your principal is considering changing school ...   \n",
       "\n",
       "                                               input  \\\n",
       "0  You are my English teacher. Read my essay and ...   \n",
       "1  You are my English teacher. Read my essay and ...   \n",
       "2  You are my English teacher. Read my essay and ...   \n",
       "3  You are my English teacher. Read my essay and ...   \n",
       "4  You are my English teacher. Read my essay and ...   \n",
       "\n",
       "                                         predictions  \\\n",
       "0  <s>[INST] You are my English teacher. Read my ...   \n",
       "1  <s>[INST] You are my English teacher. Read my ...   \n",
       "2  <s>[INST] You are my English teacher. Read my ...   \n",
       "3  <s>[INST] You are my English teacher. Read my ...   \n",
       "4  <s>[INST] You are my English teacher. Read my ...   \n",
       "\n",
       "                                   extracted_content  \n",
       "0  Sure, I'd be happy to help you revise your ess...  \n",
       "1  Sure, I'd be happy to help you revise your ess...  \n",
       "2  Of course! Here are some excerpts from your es...  \n",
       "3  Of course! Here are some excerpts from your es...  \n",
       "4  Sure, I'd be happy to help you revise your ess...  "
      ]
     },
     "execution_count": 21,
     "metadata": {},
     "output_type": "execute_result"
    }
   ],
   "source": [
    "df.head()"
   ]
  },
  {
   "cell_type": "code",
   "execution_count": 22,
   "metadata": {},
   "outputs": [],
   "source": [
    "res_df = expand_pred_df(df, 'extracted_content')"
   ]
  },
  {
   "cell_type": "code",
   "execution_count": 23,
   "metadata": {},
   "outputs": [
    {
     "data": {
      "text/html": [
       "<div>\n",
       "<style scoped>\n",
       "    .dataframe tbody tr th:only-of-type {\n",
       "        vertical-align: middle;\n",
       "    }\n",
       "\n",
       "    .dataframe tbody tr th {\n",
       "        vertical-align: top;\n",
       "    }\n",
       "\n",
       "    .dataframe thead th {\n",
       "        text-align: right;\n",
       "    }\n",
       "</style>\n",
       "<table border=\"1\" class=\"dataframe\">\n",
       "  <thead>\n",
       "    <tr style=\"text-align: right;\">\n",
       "      <th></th>\n",
       "      <th>essay</th>\n",
       "      <th>prompt</th>\n",
       "      <th>input</th>\n",
       "      <th>predictions</th>\n",
       "      <th>extracted_content</th>\n",
       "      <th>excerpt</th>\n",
       "      <th>feedback</th>\n",
       "    </tr>\n",
       "  </thead>\n",
       "  <tbody>\n",
       "    <tr>\n",
       "      <th>0</th>\n",
       "      <td>Dear Principal,\\n\\nI have heard you are having...</td>\n",
       "      <td>Some of your friends perform community service...</td>\n",
       "      <td>You are my English teacher. Read my essay and ...</td>\n",
       "      <td>&lt;s&gt;[INST] You are my English teacher. Read my ...</td>\n",
       "      <td>Sure, I'd be happy to help you revise your ess...</td>\n",
       "      <td>I know many people who do community service in...</td>\n",
       "      <td>Feedback: Consider providing specific examples...</td>\n",
       "    </tr>\n",
       "    <tr>\n",
       "      <th>1</th>\n",
       "      <td>Dear Principal,\\n\\nI have heard you are having...</td>\n",
       "      <td>Some of your friends perform community service...</td>\n",
       "      <td>You are my English teacher. Read my essay and ...</td>\n",
       "      <td>&lt;s&gt;[INST] You are my English teacher. Read my ...</td>\n",
       "      <td>Sure, I'd be happy to help you revise your ess...</td>\n",
       "      <td>Doing such a little thing to a community could...</td>\n",
       "      <td>Feedback: Emphasize the long-term benefits of ...</td>\n",
       "    </tr>\n",
       "    <tr>\n",
       "      <th>2</th>\n",
       "      <td>Dear Principal,\\n\\nI have heard you are having...</td>\n",
       "      <td>Some of your friends perform community service...</td>\n",
       "      <td>You are my English teacher. Read my essay and ...</td>\n",
       "      <td>&lt;s&gt;[INST] You are my English teacher. Read my ...</td>\n",
       "      <td>Sure, I'd be happy to help you revise your ess...</td>\n",
       "      <td>I know it may sound funny but picking up trash...</td>\n",
       "      <td>Feedback: Highlight the various ways in which ...</td>\n",
       "    </tr>\n",
       "    <tr>\n",
       "      <th>3</th>\n",
       "      <td>Asking for more than one person for advice can...</td>\n",
       "      <td>When people ask for advice, they sometimes tal...</td>\n",
       "      <td>You are my English teacher. Read my essay and ...</td>\n",
       "      <td>&lt;s&gt;[INST] You are my English teacher. Read my ...</td>\n",
       "      <td>Sure, I'd be happy to help you revise your ess...</td>\n",
       "      <td>Asking advice from others, because it could gi...</td>\n",
       "      <td>This sentence could be rephrased for clarity. ...</td>\n",
       "    </tr>\n",
       "    <tr>\n",
       "      <th>4</th>\n",
       "      <td>Asking for more than one person for advice can...</td>\n",
       "      <td>When people ask for advice, they sometimes tal...</td>\n",
       "      <td>You are my English teacher. Read my essay and ...</td>\n",
       "      <td>&lt;s&gt;[INST] You are my English teacher. Read my ...</td>\n",
       "      <td>Sure, I'd be happy to help you revise your ess...</td>\n",
       "      <td>Their opinion could have been something you ha...</td>\n",
       "      <td>This sentence is a good point, but it could be...</td>\n",
       "    </tr>\n",
       "  </tbody>\n",
       "</table>\n",
       "</div>"
      ],
      "text/plain": [
       "                                               essay  \\\n",
       "0  Dear Principal,\\n\\nI have heard you are having...   \n",
       "1  Dear Principal,\\n\\nI have heard you are having...   \n",
       "2  Dear Principal,\\n\\nI have heard you are having...   \n",
       "3  Asking for more than one person for advice can...   \n",
       "4  Asking for more than one person for advice can...   \n",
       "\n",
       "                                              prompt  \\\n",
       "0  Some of your friends perform community service...   \n",
       "1  Some of your friends perform community service...   \n",
       "2  Some of your friends perform community service...   \n",
       "3  When people ask for advice, they sometimes tal...   \n",
       "4  When people ask for advice, they sometimes tal...   \n",
       "\n",
       "                                               input  \\\n",
       "0  You are my English teacher. Read my essay and ...   \n",
       "1  You are my English teacher. Read my essay and ...   \n",
       "2  You are my English teacher. Read my essay and ...   \n",
       "3  You are my English teacher. Read my essay and ...   \n",
       "4  You are my English teacher. Read my essay and ...   \n",
       "\n",
       "                                         predictions  \\\n",
       "0  <s>[INST] You are my English teacher. Read my ...   \n",
       "1  <s>[INST] You are my English teacher. Read my ...   \n",
       "2  <s>[INST] You are my English teacher. Read my ...   \n",
       "3  <s>[INST] You are my English teacher. Read my ...   \n",
       "4  <s>[INST] You are my English teacher. Read my ...   \n",
       "\n",
       "                                   extracted_content  \\\n",
       "0  Sure, I'd be happy to help you revise your ess...   \n",
       "1  Sure, I'd be happy to help you revise your ess...   \n",
       "2  Sure, I'd be happy to help you revise your ess...   \n",
       "3  Sure, I'd be happy to help you revise your ess...   \n",
       "4  Sure, I'd be happy to help you revise your ess...   \n",
       "\n",
       "                                             excerpt  \\\n",
       "0  I know many people who do community service in...   \n",
       "1  Doing such a little thing to a community could...   \n",
       "2  I know it may sound funny but picking up trash...   \n",
       "3  Asking advice from others, because it could gi...   \n",
       "4  Their opinion could have been something you ha...   \n",
       "\n",
       "                                            feedback  \n",
       "0  Feedback: Consider providing specific examples...  \n",
       "1  Feedback: Emphasize the long-term benefits of ...  \n",
       "2  Feedback: Highlight the various ways in which ...  \n",
       "3  This sentence could be rephrased for clarity. ...  \n",
       "4  This sentence is a good point, but it could be...  "
      ]
     },
     "execution_count": 23,
     "metadata": {},
     "output_type": "execute_result"
    }
   ],
   "source": [
    "res_df.head()"
   ]
  },
  {
   "cell_type": "code",
   "execution_count": 24,
   "metadata": {},
   "outputs": [
    {
     "data": {
      "text/plain": [
       "(667, 7)"
      ]
     },
     "execution_count": 24,
     "metadata": {},
     "output_type": "execute_result"
    }
   ],
   "source": [
    "res_df.shape"
   ]
  },
  {
   "cell_type": "code",
   "execution_count": 25,
   "metadata": {},
   "outputs": [],
   "source": [
    "res_df.to_csv('baseline_res.csv', index=False)"
   ]
  }
 ],
 "metadata": {
  "kernelspec": {
   "display_name": "Python 3",
   "language": "python",
   "name": "python3"
  },
  "language_info": {
   "codemirror_mode": {
    "name": "ipython",
    "version": 3
   },
   "file_extension": ".py",
   "mimetype": "text/x-python",
   "name": "python",
   "nbconvert_exporter": "python",
   "pygments_lexer": "ipython3",
   "version": "3.8.10"
  },
  "orig_nbformat": 4
 },
 "nbformat": 4,
 "nbformat_minor": 2
}
