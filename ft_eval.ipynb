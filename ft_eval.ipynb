{
 "cells": [
  {
   "cell_type": "code",
   "execution_count": null,
   "metadata": {},
   "outputs": [],
   "source": [
    "!pip install accelerate peft bitsandbytes transformers trl tqdm pandas torch transformers"
   ]
  },
  {
   "cell_type": "code",
   "execution_count": null,
   "metadata": {},
   "outputs": [],
   "source": [
    "import pandas as pd\n",
    "import torch\n",
    "import pandas as pd\n",
    "from util import format_prompt_test, generate, extract_text_after_tag\n",
    "from tqdm import tqdm\n",
    "\n",
    "# Load dataset\n",
    "df = pd.read_csv('eval_data.csv')\n",
    "df['input'] = df.apply(lambda row: format_prompt_test(row['essay'], row['prompt']), axis=1)"
   ]
  },
  {
   "cell_type": "code",
   "execution_count": null,
   "metadata": {},
   "outputs": [],
   "source": [
    "from peft import PeftModel, PeftConfig\n",
    "from transformers import AutoModelForCausalLM\n",
    "\n",
    "config = PeftConfig.from_pretrained(\"meiflwr/llama2-7b-feedback-ft\")\n",
    "base_model = AutoModelForCausalLM.from_pretrained(\"NousResearch/Llama-2-7b-chat-hf\")\n",
    "model = PeftModel.from_pretrained(base_model, \"meiflwr/llama2-7b-feedback-ft\")"
   ]
  },
  {
   "cell_type": "code",
   "execution_count": null,
   "metadata": {},
   "outputs": [],
   "source": [
    "from peft import PeftModel, PeftConfig\n",
    "from transformers import AutoModelForCausalLM, AutoTokenizer\n",
    "\n",
    "config = PeftConfig.from_pretrained(\"meiflwr/llama2-7b-feedback-ft\")\n",
    "base_model = AutoModelForCausalLM.from_pretrained(\"NousResearch/Llama-2-7b-chat-hf\")\n",
    "model = PeftModel.from_pretrained(base_model, \"meiflwr/llama2-7b-feedback-ft\")\n",
    "tokenizer = AutoTokenizer.from_pretrained(\"meiflwr/llama2-7b-feedback-ft\")"
   ]
  },
  {
   "cell_type": "code",
   "execution_count": null,
   "metadata": {},
   "outputs": [],
   "source": [
    "from transformers import pipeline\n",
    "def generate(input, model, tokenizer):\n",
    "    pipe = pipeline(task=\"text-generation\", model=model, tokenizer=tokenizer, max_new_tokens = 170, device = 0)\n",
    "    result = pipe(f\"{input}\")\n",
    "    res = result[0]['generated_text']\n",
    "    return res"
   ]
  },
  {
   "cell_type": "code",
   "execution_count": null,
   "metadata": {},
   "outputs": [],
   "source": [
    "from tqdm import tqdm\n",
    "tqdm.pandas()\n",
    "df['predictions'] = df.progress_apply(lambda row: generate(row['input'], model, tokenizer), axis=1)\n",
    "df['predictions'][0]"
   ]
  }
 ],
 "metadata": {
  "language_info": {
   "name": "python"
  },
  "orig_nbformat": 4
 },
 "nbformat": 4,
 "nbformat_minor": 2
}
